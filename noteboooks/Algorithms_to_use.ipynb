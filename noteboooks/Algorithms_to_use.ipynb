{
 "cells": [
  {
   "cell_type": "markdown",
   "id": "115777b5",
   "metadata": {},
   "source": [
    "1- Logistic Regression (LR)  \n",
    "2- Naive Bayes (NB) \n",
    "3-  K-Nearest Neighbors (KNN)  \n",
    "4-  Decision Tree (DT) \n",
    "5- Random Forest (RF) \n",
    "6- XGBoost Algorithm (XGB)"
   ]
  },
  {
   "cell_type": "markdown",
   "id": "a541101a",
   "metadata": {},
   "source": []
  }
 ],
 "metadata": {
  "language_info": {
   "name": "python"
  }
 },
 "nbformat": 4,
 "nbformat_minor": 5
}
