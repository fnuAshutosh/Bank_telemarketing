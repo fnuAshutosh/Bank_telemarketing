{
 "cells": [
  {
   "cell_type": "markdown",
   "metadata": {},
   "source": [
    "Objective: Bank Marketing Data Set The data is related with direct marketing campaigns (phone calls) of a Portuguese banking institution"
   ]
  },
  {
   "cell_type": "markdown",
   "metadata": {},
   "source": [
    "install dependencies\n",
    "!pip install pandas\n",
    "!pip install numpy \n",
    "!pip install matplotlib\n",
    "!pip install -U scikit-learn\n",
    "!pip install matplotlib"
   ]
  }
 ],
 "metadata": {
  "language_info": {
   "name": "python"
  }
 },
 "nbformat": 4,
 "nbformat_minor": 2
}
